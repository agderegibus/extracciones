{
 "cells": [
  {
   "cell_type": "markdown",
   "id": "fbe4c3c1-3d36-473c-9f01-e2fc532f022a",
   "metadata": {
    "tags": []
   },
   "source": [
    "### Importar librerias\n"
   ]
  },
  {
   "cell_type": "code",
   "execution_count": 46,
   "id": "c263ffb1-f8c1-424e-9678-640e858dd1df",
   "metadata": {},
   "outputs": [],
   "source": [
    "from tokenize import triple_quoted\n",
    "import requests \n",
    "requests.packages.urllib3.disable_warnings()\n",
    "import pandas as pd\n",
    "pd.options.mode.chained_assignment = None\n",
    "import time\n",
    "import dataframe_image as dfi\n",
    "from PIL import Image\n",
    "from datetime import datetime\n",
    "from cim_to_id import cim_to_id as cmm\n",
    "import random\n",
    "import time\n",
    "import dataframe_image as dfi\n",
    "from PIL import Image\n",
    "from datetime import datetime\n",
    "from cim_to_id import cim_to_id as cmm\n",
    "import random"
   ]
  },
  {
   "cell_type": "markdown",
   "id": "57924013-82f0-4f6f-9b55-4ec96be130ee",
   "metadata": {
    "tags": []
   },
   "source": [
    "### Definir parametros, opciones y fecha "
   ]
  },
  {
   "cell_type": "code",
   "execution_count": 47,
   "id": "0ac32e85-e003-402f-a75d-0455d636b0d2",
   "metadata": {},
   "outputs": [
    {
     "name": "stdout",
     "output_type": "stream",
     "text": [
      "La hora actual es  10:55 \n",
      " ## PRIMERA VENTANA ## \n",
      "\n"
     ]
    }
   ],
   "source": [
    "\n",
    "def format_float(value):\n",
    "    return f'{value:,.2f}'\n",
    "\n",
    "pd.options.display.float_format = format_float\n",
    "\n",
    "currentDateAndTime = datetime.now()\n",
    "currentTime = str(currentDateAndTime.strftime(\"%H:%M\"))\n",
    "hora = int(currentTime[0:2])\n",
    "if hora <= 13:\n",
    "    ventana = \"1\"\n",
    "    cual = \"## PRIMERA VENTANA ##\"\n",
    "elif hora >= 14:\n",
    "    ventana = \"2\"\n",
    "    cual = \"## SEGUNDA VENTANA ##\"\n",
    "    \n",
    "print(\"La hora actual es \",currentTime,\"\\n\",cual,\"\\n\")\n"
   ]
  },
  {
   "cell_type": "markdown",
   "id": "4cd1003f-7958-4149-adf3-0493ee072941",
   "metadata": {
    "tags": []
   },
   "source": [
    "### Token"
   ]
  },
  {
   "cell_type": "code",
   "execution_count": 48,
   "id": "b64efd2e-60e8-4f61-921b-ebf864b105ce",
   "metadata": {},
   "outputs": [
    {
     "name": "stdout",
     "output_type": "stream",
     "text": [
      "Tu token es: 29001618992\n",
      "Espere un segundo...\n"
     ]
    }
   ],
   "source": [
    "now = str(datetime.now())\n",
    "filename = (\"Extracciones-\"+now[0:10]+\".png\")\n",
    "token = str(random.randint(111111111,99999999999))\n",
    "print(f\"Tu token es: {token}\")\n",
    "time.sleep(1)\n",
    "print(\"Espere un segundo...\")\n",
    "time.sleep(0.5)"
   ]
  },
  {
   "cell_type": "markdown",
   "id": "1808d121-eed3-4639-b85a-e7f1bb922150",
   "metadata": {
    "tags": []
   },
   "source": [
    "## MOTOR DE EXTRACCIONES"
   ]
  },
  {
   "attachments": {},
   "cell_type": "markdown",
   "id": "707dc901",
   "metadata": {},
   "source": [
    "### TEST BUSCAR LOP\n"
   ]
  },
  {
   "cell_type": "code",
   "execution_count": null,
   "id": "b934ccde",
   "metadata": {},
   "outputs": [],
   "source": []
  },
  {
   "cell_type": "code",
   "execution_count": null,
   "id": "302a9649",
   "metadata": {},
   "outputs": [],
   "source": [
    "\n"
   ]
  },
  {
   "cell_type": "markdown",
   "id": "3ed94294-0426-420c-84dc-7e508006bdcc",
   "metadata": {},
   "source": [
    "### BUSCAR TODOS LOS ALYC CON SE"
   ]
  },
  {
   "cell_type": "code",
   "execution_count": 49,
   "id": "841d904f-78bb-4074-a60e-3d75613220d2",
   "metadata": {},
   "outputs": [],
   "source": [
    "URL_GENERAL = \"https://riskzone.anywhereportfolio.com.ar:9099/api/solicitudextraccion/\"+token+\"/getsolicitudextraccionbyalyc?CurrentPage=1&ItemsPerPage=100\"\n",
    "tokenobj = {'key': 'value'}\n",
    "REQUEST_GENERAL = requests.get(URL_GENERAL, json = tokenobj)\n",
    "data  = (REQUEST_GENERAL.json())\n",
    "data = (data[\"Items\"])\n",
    "data = pd.DataFrame(data)\n",
    "listaalycs = (data[\"MiembroCompensadorID\"])\n",
    "#ACA SE CREAN LOS DF A LOS QUE SE VA CONCATENANDO LA DATA\n",
    "DATAFINAL = pd.DataFrame()\n",
    "DATAFINALPORCIM = pd.DataFrame()"
   ]
  },
  {
   "cell_type": "markdown",
   "id": "ffbc71b0-344e-4167-a0c4-8a38e48f8f3a",
   "metadata": {},
   "source": [
    "## LOOP PARA BUSCAR POR CIM Y LUEGO DENTRO DE LA INFO DE CADA CIM Y LUEGO POR FINALIDAD"
   ]
  },
  {
   "cell_type": "code",
   "execution_count": 50,
   "id": "76cfb2a3-89c1-4067-a57c-d191bfc30026",
   "metadata": {},
   "outputs": [],
   "source": [
    "for alyc in listaalycs:\n",
    "\n",
    "    listacim = []\n",
    "    aloc = str(alyc)\n",
    "    URL_PORALYC = \"https://riskzone.anywhereportfolio.com.ar:9099/api/solicitudextraccion/\"+token+\"/getsolicitudextraccionbycim?AlycID=\"+aloc\n",
    "    #tokenobj = {'key': 'value'}\n",
    "    try:\n",
    "        PORCIM = requests.get(URL_PORALYC)#, json = tokenobj)\n",
    "        data  = (PORCIM.json())\n",
    "        df = pd.DataFrame(data)\n",
    "    except:\n",
    "        pass\n",
    "    try:\n",
    "        df_cim = df[\"CimID\"][0]\n",
    "        listacim.append(df_cim)\n",
    "    except:\n",
    "        pass\n",
    "    #SEGUNDO LOOP\n",
    "    for CIMID in listacim:\n",
    "         URL_PORCIM = \"https://riskzone.anywhereportfolio.com.ar:9099/api/solicitudextraccion/\"+token+\"/getsolicitudextraccionbyneteo?AlycID=\"+aloc+\"&CimID=\"+str(CIMID)\n",
    "         y = requests.get(URL_PORCIM, json = tokenobj)\n",
    "         SE  = (y.json())\n",
    "         SE = (pd.DataFrame(SE))\n",
    "         DATAFINALPORCIM = pd.concat([DATAFINALPORCIM, SE])\n",
    "\n",
    "         \n",
    "         for ID in SE[\"CuentaNeteoID\"]:\n",
    "        #esto trae solo las que son finalidad 2 (margenes), hay que agregar que tamben traiga las de FCGIM\n",
    "            URL_PORFINALIDAD2 = \"https://riskzone.anywhereportfolio.com.ar:9099/api/solicitudextraccion/\"+token+\"/getsolicitudextraccionbymensajes?AlycID=\"+aloc+\"&CimID=\"+str(CIMID)+\"&neteoID=\"+str(ID)+\"&finalidadID=2\"\n",
    "            finalidad2 = requests.get(URL_PORFINALIDAD2, json = tokenobj)\n",
    "            PORFINALIDAD  = (finalidad2.json())\n",
    "            PORFINALIDAD = (pd.DataFrame(PORFINALIDAD))\n",
    "            DATAFINAL = pd.concat([DATAFINAL, PORFINALIDAD])\n",
    "            URL_PORFINALIDAD9 = \"https://riskzone.anywhereportfolio.com.ar:9099/api/solicitudextraccion/\"+token+\"/getsolicitudextraccionbymensajes?AlycID=\"+aloc+\"&CimID=\"+str(CIMID)+\"&neteoID=\"+str(ID)+\"&finalidadID=9\"\n",
    "            finalidad9 = requests.get(URL_PORFINALIDAD9, json = tokenobj)\n",
    "            PORFINALIDAD  = (finalidad9.json())\n",
    "            PORFINALIDAD = (pd.DataFrame(PORFINALIDAD))\n",
    "            DATAFINAL = pd.concat([DATAFINAL, PORFINALIDAD])\n",
    "\n"
   ]
  },
  {
   "cell_type": "code",
   "execution_count": 51,
   "id": "0afcc0ba",
   "metadata": {},
   "outputs": [
    {
     "name": "stdout",
     "output_type": "stream",
     "text": [
      "Index(['CuentaNeteoID', 'NeteoCodigo', 'FinalidadID', 'ExtraccionFecha',\n",
      "       'ExtraccionHora', 'ActivoID', 'CodigoActivo', 'ActivoDescripcion',\n",
      "       'Cantidad', 'Monto', 'Disponible', 'MargenDelDia', 'NoVerificado',\n",
      "       'NoVerificadoTotal', 'SegundaVentana', 'TipoAprobacion'],\n",
      "      dtype='object')\n"
     ]
    }
   ],
   "source": [
    "print(DATAFINAL.columns)\n"
   ]
  },
  {
   "cell_type": "code",
   "execution_count": 52,
   "id": "4055baf0",
   "metadata": {},
   "outputs": [],
   "source": [
    "\n",
    "IDS = DATAFINALPORCIM[[\"NeteoCodigo\",\"CuentaNeteoID\",\"CimID\",\"MiembroCompensadorID\"]]\n",
    "IDS = IDS.reset_index()\n",
    "#IDS[\"Cuenta\"] = IDS[\"Cuenta\"].astype(\"str\")\n"
   ]
  },
  {
   "cell_type": "markdown",
   "id": "328db097-d357-460e-9e80-a68362fde632",
   "metadata": {},
   "source": [
    "## OBTENER PROPIA"
   ]
  },
  {
   "cell_type": "markdown",
   "id": "5eb322d1",
   "metadata": {},
   "source": [
    "### obtener la cuenta propia"
   ]
  },
  {
   "cell_type": "code",
   "execution_count": 53,
   "id": "acf20fc6-9f6e-46f4-9318-db326e3df390",
   "metadata": {},
   "outputs": [],
   "source": [
    "#cuentas = pd.read_csv(\"ListadoCIM.csv\",index_col=0, encoding='latin-1')\n"
   ]
  },
  {
   "cell_type": "code",
   "execution_count": 54,
   "id": "fc293851",
   "metadata": {},
   "outputs": [],
   "source": [
    "#cuentas = cuentas[cuentas[\"Tipo Cuenta\"] == \"Propia\"]\n",
    "#cuentas =  cuentas.reset_index()\n",
    "#cuentas = cuentas[[\"MC\", \"MC Cód.\",\"Cód.\"]]\n",
    "#cuentas = cuentas.rename(columns={\"MC Cód.\": \"MC_COD\", \"Cód.\": \"MC_PROPIA_COD\"})\n",
    "\n"
   ]
  },
  {
   "cell_type": "code",
   "execution_count": 55,
   "id": "aa6654c3",
   "metadata": {},
   "outputs": [],
   "source": [
    "url = \"https://rm4api.testing.acsa:8099/api/cuentas/getcuentacompensacion\"\n",
    "df = requests.get(url, verify=False)\n",
    "data_cuentas  = (df.json())\n",
    "data_cuentas = pd.DataFrame(data_cuentas)\n",
    "\n"
   ]
  },
  {
   "cell_type": "code",
   "execution_count": 56,
   "id": "1beef012",
   "metadata": {},
   "outputs": [],
   "source": [
    "def get_cim_propia(MC):\n",
    "    MC = str(MC)\n",
    "    \n",
    "    data_mc = ((data_cuentas[data_cuentas[\"MiembroCompensadorCodigo\"] == MC]))\n",
    "    propia = data_mc[data_mc[\"EsCuentaPropia\"] == True]\n",
    "    cim_codigo_propia = (propia[\"CuentaCompensacionCodigo\"].to_string(name=False,dtype=False,index=False))\n",
    "    return(int(cim_codigo_propia))\n"
   ]
  },
  {
   "cell_type": "code",
   "execution_count": 57,
   "id": "f1886b4e",
   "metadata": {},
   "outputs": [],
   "source": [
    "def get_mc_name(MC):\n",
    "    MC = str(MC)\n",
    "    data_mc = ((data_cuentas[data_cuentas[\"MiembroCompensadorCodigo\"] == MC]))\n",
    "    name_mc = data_mc[\"MiembroCompensadorDescripcion\"].iloc[0] #.to_string(Name=False,dtype=False,index=False)\n",
    "#cim_codigo_propia = (propia[\"CuentaCompensacionCodigo\"].to_string(name=False,dtype=False,index=False))\n",
    "    return(name_mc)\n"
   ]
  },
  {
   "cell_type": "code",
   "execution_count": null,
   "id": "fb02c9ea",
   "metadata": {},
   "outputs": [],
   "source": []
  },
  {
   "cell_type": "code",
   "execution_count": 58,
   "id": "4ec47ce6",
   "metadata": {},
   "outputs": [],
   "source": [
    "#def obtener_propia(MC_COD):\n",
    " #   linea = cuentas[cuentas[\"MC_COD\"] == int(MC_COD)]\n",
    "  #  return(int(linea[\"MC_PROPIA_COD\"].item()))\n",
    "\n",
    "#def obtener_nombre(MC_COD):\n",
    "#    try:\n",
    "#        linea = cuentas[cuentas[\"MC_COD\"] == int(MC_COD)]\n",
    "#        return(str(linea[\"MC\"].item()))\n",
    "#    except:\n",
    "#        return(0)\n",
    "#"
   ]
  },
  {
   "cell_type": "markdown",
   "id": "e1de0d60-10e8-4075-8ffe-003d33970bb1",
   "metadata": {},
   "source": [
    "### ACA LEE DE OTRO EXCEL LA PROPIA"
   ]
  },
  {
   "cell_type": "code",
   "execution_count": 59,
   "id": "73842fb6-4241-4d5e-ba38-f7aa887d3a08",
   "metadata": {},
   "outputs": [],
   "source": [
    "\n",
    "DATAFINAL[\"PRIMER_ANALISIS\"] = DATAFINAL[\"Disponible\"] + DATAFINAL[\"Monto\"]\n",
    "DATAFINALPORCIM = DATAFINALPORCIM[[ \"MiembroCompensadorID\",\"CimID\",\"CimCodigo\", \"CuentaNeteoID\"]]\n",
    "DATAFINAL = DATAFINAL.merge(DATAFINALPORCIM, on = \"CuentaNeteoID\", how = \"left\")\n",
    "DATAFINAL = DATAFINAL.drop_duplicates()\n"
   ]
  },
  {
   "cell_type": "code",
   "execution_count": 60,
   "id": "1812c718",
   "metadata": {},
   "outputs": [],
   "source": [
    "\n",
    "#C_CIM = pd.read_excel(r\"C:\\Users\\aggonzalez\\Desktop\\SE\\MCCIM.xlsx\")\n",
    "#MC = MC_CIM[[\"CimCodigo\", \"MC_Cod\"]]\n",
    "#MC.dtypes.value_counts()"
   ]
  },
  {
   "cell_type": "code",
   "execution_count": 61,
   "id": "ef820b44",
   "metadata": {},
   "outputs": [],
   "source": [
    "\n",
    "MC = data_cuentas[[\"CuentaCompensacionCodigo\", \"MiembroCompensadorCodigo\"]]\n",
    "MC = MC.rename(columns={\"MiembroCompensadorCodigo\":\"MC_Cod\",\"CuentaCompensacionCodigo\":\"CimCodigo\"})\n",
    "MC[\"MC_Cod\"] = MC[\"MC_Cod\"].astype(str).astype(int)\n",
    "MC[\"CimCodigo\"] = MC[\"CimCodigo\"].astype(str).astype(int)\n"
   ]
  },
  {
   "cell_type": "code",
   "execution_count": 62,
   "id": "f376ea02",
   "metadata": {},
   "outputs": [
    {
     "data": {
      "text/html": [
       "<div>\n",
       "<style scoped>\n",
       "    .dataframe tbody tr th:only-of-type {\n",
       "        vertical-align: middle;\n",
       "    }\n",
       "\n",
       "    .dataframe tbody tr th {\n",
       "        vertical-align: top;\n",
       "    }\n",
       "\n",
       "    .dataframe thead th {\n",
       "        text-align: right;\n",
       "    }\n",
       "</style>\n",
       "<table border=\"1\" class=\"dataframe\">\n",
       "  <thead>\n",
       "    <tr style=\"text-align: right;\">\n",
       "      <th></th>\n",
       "      <th>CimCodigo</th>\n",
       "      <th>MC_Cod</th>\n",
       "    </tr>\n",
       "  </thead>\n",
       "  <tbody>\n",
       "    <tr>\n",
       "      <th>0</th>\n",
       "      <td>2016</td>\n",
       "      <td>16</td>\n",
       "    </tr>\n",
       "    <tr>\n",
       "      <th>1</th>\n",
       "      <td>1016</td>\n",
       "      <td>16</td>\n",
       "    </tr>\n",
       "    <tr>\n",
       "      <th>2</th>\n",
       "      <td>2021</td>\n",
       "      <td>21</td>\n",
       "    </tr>\n",
       "    <tr>\n",
       "      <th>3</th>\n",
       "      <td>1021</td>\n",
       "      <td>21</td>\n",
       "    </tr>\n",
       "    <tr>\n",
       "      <th>4</th>\n",
       "      <td>1022</td>\n",
       "      <td>22</td>\n",
       "    </tr>\n",
       "    <tr>\n",
       "      <th>...</th>\n",
       "      <td>...</td>\n",
       "      <td>...</td>\n",
       "    </tr>\n",
       "    <tr>\n",
       "      <th>574</th>\n",
       "      <td>1187</td>\n",
       "      <td>187</td>\n",
       "    </tr>\n",
       "    <tr>\n",
       "      <th>575</th>\n",
       "      <td>1499</td>\n",
       "      <td>499</td>\n",
       "    </tr>\n",
       "    <tr>\n",
       "      <th>576</th>\n",
       "      <td>165590</td>\n",
       "      <td>499</td>\n",
       "    </tr>\n",
       "    <tr>\n",
       "      <th>577</th>\n",
       "      <td>165600</td>\n",
       "      <td>666</td>\n",
       "    </tr>\n",
       "    <tr>\n",
       "      <th>578</th>\n",
       "      <td>1666</td>\n",
       "      <td>666</td>\n",
       "    </tr>\n",
       "  </tbody>\n",
       "</table>\n",
       "<p>579 rows × 2 columns</p>\n",
       "</div>"
      ],
      "text/plain": [
       "     CimCodigo  MC_Cod\n",
       "0         2016      16\n",
       "1         1016      16\n",
       "2         2021      21\n",
       "3         1021      21\n",
       "4         1022      22\n",
       "..         ...     ...\n",
       "574       1187     187\n",
       "575       1499     499\n",
       "576     165590     499\n",
       "577     165600     666\n",
       "578       1666     666\n",
       "\n",
       "[579 rows x 2 columns]"
      ]
     },
     "execution_count": 62,
     "metadata": {},
     "output_type": "execute_result"
    }
   ],
   "source": [
    "MC\n",
    "#MC[\"CimCodigo\"].dtypes.value_counts()"
   ]
  },
  {
   "cell_type": "code",
   "execution_count": 63,
   "id": "6083bf11",
   "metadata": {},
   "outputs": [],
   "source": [
    "\n",
    "DATAFINAL[\"CimCodigo\"] = DATAFINAL[\"CimCodigo\"].astype(int)\n",
    "cols = DATAFINAL.columns.tolist()\n",
    "cols = cols[-1:] + cols[:-1]\n",
    "DATAFINAL = DATAFINAL[cols]\n",
    "DATAFINAL = DATAFINAL.merge(MC, on = \"CimCodigo\", how = \"left\")\n"
   ]
  },
  {
   "cell_type": "markdown",
   "id": "a73fc2c2-3fdf-47cd-b200-5f1fb0d00257",
   "metadata": {},
   "source": [
    "### DEFINIR COLORES"
   ]
  },
  {
   "cell_type": "code",
   "execution_count": 64,
   "id": "216e270f-5eed-4abd-b4bc-5f3a70c83d43",
   "metadata": {},
   "outputs": [],
   "source": [
    "def highlight_rows(row):\n",
    "    value = row.loc[\"OUT\"]\n",
    "    if value == 0:\n",
    "        color = '#FF0000' # Red\n",
    "    elif value == 1:\n",
    "        color = '#85e62c' # Green\n",
    "    elif value == 2:\n",
    "        color = '#ebff0a' # Otro green\n",
    "    elif value == 3:\n",
    "        color = \"#209c05\" #meio yellow\n",
    "    elif value == 4:\n",
    "        color = \"#a8329b\" #LILA BIEN FUERTE\n",
    "\n",
    "    return ['background-color: {}'.format(color) for r in row]\n",
    "\n"
   ]
  },
  {
   "cell_type": "code",
   "execution_count": 65,
   "id": "5387807e-e4f3-4ed6-8b2d-a0723b1550e4",
   "metadata": {},
   "outputs": [],
   "source": [
    "### REORDENAR COLUMNAS\n",
    "cols = DATAFINAL.columns.tolist()\n",
    "cols = cols[-1:] + cols[:-1]\n",
    "DATAFINAL = DATAFINAL[cols]\n"
   ]
  },
  {
   "cell_type": "markdown",
   "id": "c5e2d219-a4b6-47e7-94eb-3275da0da04a",
   "metadata": {},
   "source": [
    "### PONER CUENTAS PROPIAS Y NOMBRES DE ALYC"
   ]
  },
  {
   "cell_type": "code",
   "execution_count": 66,
   "id": "fcf49bfa-9f58-4466-af95-d8025191c0ae",
   "metadata": {},
   "outputs": [],
   "source": [
    "cuentapropia = []\n",
    "for i in range(len(DATAFINAL)):\n",
    "    try:\n",
    "        MC_COD = int(DATAFINAL[\"MC_Cod\"][i])\n",
    "        cimpropia = get_cim_propia(MC_COD)\n",
    "    except:\n",
    "        cimpropia = 0\n",
    "    cuentapropia.append(cimpropia)\n",
    "\n",
    "largo_maximo_nombre_alyc = 30\n"
   ]
  },
  {
   "cell_type": "code",
   "execution_count": 67,
   "id": "898fa0cf",
   "metadata": {},
   "outputs": [],
   "source": [
    "\n",
    "nombreMC = []\n",
    "for i in range(len(DATAFINAL)):\n",
    "    try:\n",
    "        MC_COD = int(DATAFINAL[\"MC_Cod\"][i])\n",
    "        nombre_mc = get_mc_name(MC_COD)\n",
    "        nombre_mc = str(nombre_mc[:largo_maximo_nombre_alyc])\n",
    "    except: \n",
    "        nombre_mc = 0\n",
    "    nombreMC.append(nombre_mc)\n",
    "\n",
    "\n",
    "\n",
    "DATAFINAL[\"CuentaPropiaDelMC\"] = cuentapropia\n",
    "DATAFINAL[\"ALyC\"] = nombreMC\n"
   ]
  },
  {
   "cell_type": "code",
   "execution_count": 68,
   "id": "efca3824-8355-464d-bda5-80f10d87566e",
   "metadata": {},
   "outputs": [],
   "source": [
    "lop = []\n",
    "lopverificado = []\n",
    "lopnoverificado = [] \n",
    "lopmargentotal = []\n",
    "\n",
    "listasaldospropios = []\n",
    "saldorealdelacuenta = []\n",
    "neteodescrip = []\n",
    "ingresoverificado = []\n",
    "ingresonoverif=[]\n",
    "cantidad=[]\n",
    "margendeldia= []\n",
    "\n",
    "\n"
   ]
  },
  {
   "cell_type": "code",
   "execution_count": 69,
   "id": "9321c878",
   "metadata": {},
   "outputs": [],
   "source": [
    "\n",
    "def saldoreal(alyc, cim, neteo, finalidad):\n",
    "    tokenobj = {\"key\":\"value\"}\n",
    "    ENDPOINT = f\"https://riskzone.anywhereportfolio.com.ar:9099/api/saldosconsolidados?MCId={alyc}&CelID={cim}&NeteoID={neteo}&FinalidadID={finalidad}\"\n",
    "    q = requests.get(ENDPOINT, json = tokenobj)\n",
    "    SALDOREAL  = (q.json())\n",
    "    SALDOREAL = pd.DataFrame(SALDOREAL)\n",
    "    SALDOREAL[\"SALDO INICIAL POSTA\"] = SALDOREAL[\"Cotizacion\"]*SALDOREAL[\"SaldoInicialMoneda\"]\n",
    "    SALDOREALPESOS = SALDOREAL[\"SALDO INICIAL POSTA\"].sum()\n",
    "    return(SALDOREALPESOS)\n",
    "\n",
    "# ACA SE CONSIGUEN LOS SALDOS DE LA CUENTA PROPIA \n"
   ]
  },
  {
   "cell_type": "markdown",
   "id": "25460d75",
   "metadata": {},
   "source": [
    "### ACA SE CONSIGUEN LOS SALDOS DE LA CUENTA PROPIA \n"
   ]
  },
  {
   "cell_type": "code",
   "execution_count": 70,
   "id": "248e3d06",
   "metadata": {},
   "outputs": [],
   "source": [
    "#cuentas = pd.read_excel(r\"C:\\Users\\aggonzalez\\Desktop\\SE\\obtener_cim_id.xlsx\")\n",
    "#archivocuentas = pd.read_excel(r\"C:\\Users\\aggonzalez\\Desktop\\SE\\TipoDeCuentaPorCim.xlsx\")\n",
    "\n",
    "#def cim_to_id(cim):\n",
    " #   try:\n",
    "  #      id=cuentas[cuentas[\"CuentaCompensacionCodigo\"]== int(cim)].iloc[0,0]\n",
    "   #     return(id)\n",
    "    #except:\n",
    "     #   return(cim)\n",
    "\n",
    "def cim_to_id(cim):\n",
    "\n",
    "    cim = str(cim)\n",
    "\n",
    "    cimcod = data_cuentas[data_cuentas[\"CuentaCompensacionCodigo\"] == cim]\n",
    "    cim = cimcod[\"CuentaCompensacionID\"].to_string(index=False,dtype=False)\n",
    "    return(cim)"
   ]
  },
  {
   "cell_type": "code",
   "execution_count": 71,
   "id": "7578c56d",
   "metadata": {},
   "outputs": [
    {
     "name": "stdout",
     "output_type": "stream",
     "text": [
      "36421\n",
      "ID  14839\n",
      "55666\n",
      "ID  14996\n",
      "7319\n",
      "ID  14887\n",
      "27693\n",
      "ID  14895\n"
     ]
    }
   ],
   "source": [
    "\n",
    "for i in range(len(DATAFINAL)):\n",
    "    try:\n",
    "        ALYCID = (DATAFINAL.iloc[i,19])\n",
    "        #print(\"alyc ID \", ALYCID)\n",
    "        PROPA = (DATAFINAL.iloc[i,21])\n",
    "        #print(\"PROPIA CIM COD \", PROPA)\n",
    "        CIM = (DATAFINAL.iloc[i,20])\n",
    "        #print(\"CIM \", CIM)\n",
    "        NETEO = (DATAFINAL.iloc[i,2])\n",
    "        #print(\"NETEO \",NETEO)\n",
    "        FINALIDAD = (DATAFINAL.iloc[i,4])\n",
    "        #print(FINALIDAD)\n",
    "        print(PROPA)\n",
    "        PROPA = cim_to_id(PROPA)\n",
    "        print(\"ID \", PROPA)\n",
    "        #print(\"PROPIA ID \", PROPA)\n",
    "\n",
    "        #if PROPA == 162950:\n",
    "        #    PROPA = 15380\n",
    "        e = {'SaldoInicial':'sum', 'MargenRequeridoTotal':'sum'}\n",
    "\n",
    "        tokenobj = {'key': 'value'}\n",
    "        URLSALDO = f\"https://riskzone.anywhereportfolio.com.ar:9099/api/saldosconsolidados?MCId={ALYCID}&CelID={PROPA}\"\n",
    "        q = requests.get(URLSALDO, json = tokenobj)\n",
    "        SALDOALYC  = (q.json())\n",
    "        SALDOALYC = pd.DataFrame(SALDOALYC)\n",
    "\n",
    "\n",
    "\n",
    "        saldoprevia = (SALDOALYC[['MiembroCompensadorID', 'CuentaCompensacionID', \"MonedaDescripcion\",'FinalidadID',\"SaldoInicial\",\"MargenRequeridoTotal\"]]) #cambiar Anterior por Total\n",
    "        saldoprevia[\"AP5\"] = saldoprevia[\"SaldoInicial\"] + saldoprevia[\"MargenRequeridoTotal\"] #CAMBIAR ANTERIOR POR Total\n",
    "        saldoprevia = saldoprevia.groupby(\"FinalidadID\").agg(e)\n",
    "        saldoprevia = saldoprevia.reset_index()\n",
    "\n",
    "        #print(\"AGRUPADO QUEDA: \")\n",
    "        #print(saldoprevia)\n",
    "\n",
    "        #print(\"AHORA SOLO LA FINALIDAD CORRESPONDIENTE AL MENSAJE: \")\n",
    "        saldoprevia = (saldoprevia[saldoprevia[\"FinalidadID\"] == FINALIDAD])\n",
    "        #print(saldoprevia)\n",
    "\n",
    "        #print(\"AHORA LO NECESARIO PARA QUE QUEDE EL SALDO DE AP5\")\n",
    "        saldoprevia[\"AP5\"] = saldoprevia[\"SaldoInicial\"] + saldoprevia[\"MargenRequeridoTotal\"] #CAMBIAR ANTERIOR POR Total\n",
    "\n",
    "        #print(saldoprevia[\"AP5\"])\n",
    "        #print(\"AHORA SE SUMA LO DE  AP5\")\n",
    "        calditos = saldoprevia[\"AP5\"].sum()\n",
    "\n",
    "        #print(calditos)\n",
    "        saldodelapropia = calditos\n",
    "\n",
    "\n",
    "\n",
    "\n",
    "        ## GET LOPS !!!\n",
    "\n",
    "        \n",
    "        urllop = f\"https://riskzone.anywhereportfolio.com.ar:9099/api/lopdrp/getlopalycdrill?MCId={ALYCID}&CurrentPage=1\"\n",
    "        tokenobj = {'key': 'value'}\n",
    "        LOP = requests.get(urllop, json = tokenobj)\n",
    "        data = LOP.json()\n",
    "        data = (data[\"mcLopInfoList\"])\n",
    "        df = pd.DataFrame(data)\n",
    "\n",
    "        LOPNOVERIFICADO = df.LopNoVerificado[0]\n",
    "        LOPVERIFICADO = df.LopVerificado.values[0]\n",
    "        LOPMARGENTOTAL = df.LopMargenTotal[0]\n",
    "        LOP = df.Lop[0]\n",
    "        df.LopEstaNotificado[0]\n",
    "\n",
    "\n",
    "        \n",
    "    except:\n",
    "        saldodelapropia = 666\n",
    "\n",
    "\n",
    "    listasaldospropios.append(saldodelapropia)\n",
    "    lop.append(LOP)\n",
    "    lopmargentotal.append(LOPMARGENTOTAL)\n",
    "    lopverificado.append(LOPVERIFICADO)\n",
    "    lopnoverificado.append(LOPNOVERIFICADO)\n",
    "\n",
    "\n",
    "    \n",
    "\n",
    "\n",
    "    tokenobj = {\"key\":\"value\"}\n",
    "    ENDPOINT = f\"https://riskzone.anywhereportfolio.com.ar:9099/api/saldosconsolidados?MCId={ALYCID}&CelID={CIM}&NeteoID={NETEO}&FinalidadID={FINALIDAD}\"\n",
    "    H = requests.get(ENDPOINT, json = tokenobj)\n",
    "    SALDOREAL  = (H.json())\n",
    "    SALDOREAL = pd.DataFrame(SALDOREAL)\n",
    "\n",
    "\n",
    "    SALDOREAL[\"MARGEN INICIAL POSTA\"] = SALDOREAL[\"Cotizacion\"]*SALDOREAL[\"MargenRequeridoAnterior\"]\n",
    "    SALDOREAL[\"SALDO INICIAL POSTA\"] = SALDOREAL[\"Cotizacion\"]*SALDOREAL[\"SaldoInicialMoneda\"]\n",
    "    SALDOREAL[\"SALDO INICIAL POSTA\"] = SALDOREAL[\"SALDO INICIAL POSTA\"]+SALDOREAL[\"MARGEN INICIAL POSTA\"]\n",
    "    INGRESOVERIFICADO = SALDOREAL[\"IngresoVerificado\"].sum()\n",
    "    SALDOREALPESOS = SALDOREAL[\"SALDO INICIAL POSTA\"].sum()\n",
    "    INGRESO_NO_VERIF = SALDOREAL[\"IngresoNoVerificado\"].sum()\n",
    "\n",
    "\n",
    "\n",
    "    MG2 = SALDOREAL[\"MargenRequeridoDelDia\"].sum()\n",
    "\n",
    "\n",
    "    cantidad.append(int(DATAFINAL[\"Cantidad\"][i]))\n",
    "    nombrecuenta = SALDOREAL[\"CuentaNeteoDescripcion\"].iloc[0]\n",
    "    neteodescrip.append(nombrecuenta)\n",
    "    ingresoverificado.append(INGRESOVERIFICADO)\n",
    "    saldoposta = SALDOREALPESOS\n",
    "    saldorealdelacuenta.append(saldoposta)\n",
    "    margendeldia.append(MG2)\n",
    "    ingresonoverif.append(INGRESO_NO_VERIF)\n",
    "\n",
    "    #SALDO INICIAL ESTA PESIFICADO, SALDOINICIAL MONEDA ESTA EN VALOR ORIGNIAL DIEZ\n",
    "\n",
    "\n",
    "\n"
   ]
  },
  {
   "cell_type": "code",
   "execution_count": null,
   "id": "05a6aa03",
   "metadata": {},
   "outputs": [],
   "source": []
  },
  {
   "cell_type": "code",
   "execution_count": 72,
   "id": "10ae135d",
   "metadata": {},
   "outputs": [
    {
     "name": "stdout",
     "output_type": "stream",
     "text": [
      "15232\n"
     ]
    }
   ],
   "source": [
    "print(cim_to_id(101899))"
   ]
  },
  {
   "cell_type": "code",
   "execution_count": 73,
   "id": "072d0f22",
   "metadata": {},
   "outputs": [],
   "source": [
    "\n",
    "DATAFINAL[\"Saldo de la propia\"] = listasaldospropios\n",
    "DATAFINAL[\"Saldo POSTA\"] = saldorealdelacuenta\n",
    "DATAFINAL[\"Neteo Descripcion\"] = neteodescrip\n",
    "DATAFINAL[\"Ingresos Verificados\"] = ingresoverificado\n",
    "DATAFINAL[\"Margen Requerido Del Dia\"] = margendeldia\n",
    "DATAFINAL[\"NoVerificado2\"] = ingresonoverif\n",
    "DATAFINAL[\"Cantidad\"]=cantidad\n",
    "DATAFINAL[\"EstadoLOP\"] = lop\n",
    "DATAFINAL[\"LopNoVerificado\"] = lopnoverificado\n",
    "DATAFINAL[\"LopVerificado\"] = lopverificado\n",
    "DATAFINAL[\"LopMargenTotal\"] = lopmargentotal\n"
   ]
  },
  {
   "cell_type": "code",
   "execution_count": 74,
   "id": "87f92e39",
   "metadata": {},
   "outputs": [],
   "source": [
    "#DATAFINAL[\"Tipo de CIM\"] = tipo_de_cuenta\n",
    "if ventana == \"1\":\n",
    "    DATAFINAL[\"PRIMER_ANALISIS\"] = DATAFINAL[\"Saldo POSTA\"] + DATAFINAL[\"Monto\"] +DATAFINAL[\"Ingresos Verificados\"]\n",
    "elif ventana == \"2\":\n",
    "    DATAFINAL[\"PRIMER_ANALISIS\"] = DATAFINAL[\"Saldo POSTA\"] + DATAFINAL[\"MargenDelDia\"] + DATAFINAL[\"Monto\"] +DATAFINAL[\"Ingresos Verificados\"]\n"
   ]
  },
  {
   "cell_type": "code",
   "execution_count": 75,
   "id": "f83f4fd4",
   "metadata": {},
   "outputs": [],
   "source": [
    "\n",
    "tipodeaprobacion = []\n",
    "for i in range(len(DATAFINAL)):\n",
    "    primeranalisis = int(DATAFINAL[\"PRIMER_ANALISIS\"][i])\n",
    "    SE = int(DATAFINAL[\"Monto\"][i])\n",
    "    saldoalyc =  int(DATAFINAL[\"Saldo de la propia\"][i])\n",
    "    noverificado = int(DATAFINAL[\"NoVerificado\"][i])\n",
    "    activo = DATAFINAL[\"ActivoDescripcion\"][i]\n",
    "    FCI = \"FCI\"\n",
    "\n",
    "    \n",
    "\n",
    "    if primeranalisis >= 0:\n",
    "        aprobacion = 1\n",
    "    else:\n",
    "        if primeranalisis + saldoalyc >= 0:\n",
    "            aprobacion = 3\n",
    "            #print(primeranalisis + saldoalyc)\n",
    "        else:\n",
    "            if primeranalisis + noverificado >= 0:\n",
    "                aprobacion = 2\n",
    "            else:\n",
    "                aprobacion = 0\n",
    "    if ventana == str(2):\n",
    "        if FCI in activo:\n",
    "            aprobacion = 4\n",
    "    elif ventana == str(1):\n",
    "        pass\n",
    "\n",
    "    tipodeaprobacion.append(aprobacion)\n"
   ]
  },
  {
   "cell_type": "code",
   "execution_count": 76,
   "id": "c12bea7b",
   "metadata": {},
   "outputs": [],
   "source": [
    "\n",
    "DATAFINAL[\"OUT\"] = tipodeaprobacion\n",
    "DATAFINAL[\"CimCodigo\"] = DATAFINAL[\"CimCodigo\"].astype(str)\n",
    "DATAFINAL = DATAFINAL.sort_values(by = \"CimCodigo\")\n",
    "IP = DATAFINAL[DATAFINAL[\"NoVerificado\"] != 0]\n",
    "\n",
    "#print(DATAFINAL.columns)\n",
    "#RESHAPE DATAFRAME\n"
   ]
  },
  {
   "cell_type": "markdown",
   "id": "e8e4a55a-2c06-4ec2-a7f8-5468a2ec7b8f",
   "metadata": {},
   "source": [
    "### REFORMAR EL DATAFRAME"
   ]
  },
  {
   "cell_type": "markdown",
   "id": "b8711214",
   "metadata": {},
   "source": [
    "### ADJUNTAR LOS ID MERGEANDO EL DATAFRAME IDS"
   ]
  },
  {
   "cell_type": "code",
   "execution_count": 77,
   "id": "fb215b89",
   "metadata": {},
   "outputs": [],
   "source": [
    "#DATAFINAL = DATAFINAL.merge(IDS, on = \"NeteoCodigo\", how = \"left\")\n"
   ]
  },
  {
   "cell_type": "markdown",
   "id": "907d5fce",
   "metadata": {},
   "source": [
    "### PROBAR QUE ESTE TODO BIEN"
   ]
  },
  {
   "cell_type": "code",
   "execution_count": 78,
   "id": "d0cc0493",
   "metadata": {},
   "outputs": [
    {
     "name": "stdout",
     "output_type": "stream",
     "text": [
      "Index(['MC_Cod', 'CimCodigo', 'CuentaNeteoID', 'NeteoCodigo', 'FinalidadID',\n",
      "       'ExtraccionFecha', 'ExtraccionHora', 'ActivoID', 'CodigoActivo',\n",
      "       'ActivoDescripcion', 'Cantidad', 'Monto', 'Disponible', 'MargenDelDia',\n",
      "       'NoVerificado', 'NoVerificadoTotal', 'SegundaVentana', 'TipoAprobacion',\n",
      "       'PRIMER_ANALISIS', 'MiembroCompensadorID', 'CimID', 'CuentaPropiaDelMC',\n",
      "       'ALyC', 'Saldo de la propia', 'Saldo POSTA', 'Neteo Descripcion',\n",
      "       'Ingresos Verificados', 'Margen Requerido Del Dia', 'NoVerificado2',\n",
      "       'EstadoLOP', 'LopNoVerificado', 'LopVerificado', 'LopMargenTotal',\n",
      "       'OUT'],\n",
      "      dtype='object')\n"
     ]
    }
   ],
   "source": [
    "print(DATAFINAL.columns)\n"
   ]
  },
  {
   "cell_type": "markdown",
   "id": "6e7c99c6",
   "metadata": {},
   "source": [
    "# DEFINIR EL DF FINAL"
   ]
  },
  {
   "cell_type": "code",
   "execution_count": 79,
   "id": "b91b14eb",
   "metadata": {},
   "outputs": [],
   "source": [
    "FINALIDAD = []\n",
    "for i in range(len(DATAFINAL)):\n",
    "    if DATAFINAL[\"FinalidadID\"][i] == 2:\n",
    "        fin = \"Margenes\"\n",
    "    elif DATAFINAL[\"FinalidadID\"][i] == 9:\n",
    "        fin = \"FGIMC\"\n",
    "    else:\n",
    "        fin = \"Otra(?)\"\n",
    "    FINALIDAD.append(fin)\n",
    "\n",
    "DATAFINAL[\"FinalidadDescripcion\"] = FINALIDAD\n",
    "    "
   ]
  },
  {
   "cell_type": "code",
   "execution_count": 80,
   "id": "f4713672-730b-49ff-930a-ee65dd554c59",
   "metadata": {},
   "outputs": [],
   "source": [
    "DATA2 =DATAFINAL\n",
    "DATAFINAL = DATAFINAL[[\"ExtraccionHora\",\"MC_Cod\",\"ALyC\",\"CimCodigo\", \"NeteoCodigo\",\"Neteo Descripcion\", \"ActivoDescripcion\",\"ActivoID\",\"FinalidadID\",\"FinalidadDescripcion\",\"Cantidad\",\"Monto\", \"Saldo POSTA\",\"Ingresos Verificados\", \"NoVerificado\", \"MargenDelDia\",\"PRIMER_ANALISIS\",\"CuentaPropiaDelMC\", \"Saldo de la propia\",\"OUT\", \"EstadoLOP\",\"LopNoVerificado\",\"LopVerificado\",\"LopMargenTotal\", \"MiembroCompensadorID\",\"CimID\",\"CuentaNeteoID\" ]]\n",
    "DATAFINAL = DATAFINAL.rename(columns={\"ExtraccionHora\":\"Hora\",\"MC_Cod\":\"MC\",\"CimCodigo\": \"CIM\", \"NeteoCodigo\": \"Cuenta\",\"ActivoDescripcion\":\"Activo\",\"Saldo POSTA\":\"Saldo Inicial\",\"NoVerificado\":\"Ingreso No Verificado\",\"MargenDelDia\":\"Margenes\",\"PRIMER_ANALISIS\":\"Saldo Consolidado Final\",\"CuentaPropiaDelMC\":\"Propia MC\", \"Saldo de la propia\":\"Saldo MC\"})\n",
    "\n",
    "#FORMATO NUMEROS\n"
   ]
  },
  {
   "cell_type": "markdown",
   "id": "d8e7efb2-8eb0-4c54-b023-40c467e57958",
   "metadata": {},
   "source": [
    "### FORMATEAR NUMEROS"
   ]
  },
  {
   "cell_type": "code",
   "execution_count": null,
   "metadata": {},
   "outputs": [],
   "source": []
  },
  {
   "cell_type": "code",
   "execution_count": 81,
   "id": "b9d344b1-d16c-470f-9491-39f2ebee0355",
   "metadata": {},
   "outputs": [],
   "source": [
    "\n",
    "DATAFINAL['Monto'] = DATAFINAL['Monto'].astype('int64')\n",
    "DATAFINAL.loc[:, \"Monto\"] = DATAFINAL[\"Monto\"].map('{:,}'.format)\n",
    "\n",
    "DATAFINAL['Saldo Inicial'] = DATAFINAL['Saldo Inicial'].astype('int64')\n",
    "DATAFINAL.loc[:, \"Saldo Inicial\"] = DATAFINAL[\"Saldo Inicial\"].map('{:,}'.format)\n",
    "\n",
    "DATAFINAL['Ingresos Verificados'] = DATAFINAL['Ingresos Verificados'].astype('int64').map('{:,}'.format)\n",
    "DATAFINAL['Ingreso No Verificado'] = DATAFINAL['Ingreso No Verificado'].astype('int64').map('{:,}'.format)\n",
    "DATAFINAL['Margenes'] = DATAFINAL['Margenes'].astype('int').map('{:,}'.format)\n",
    "DATAFINAL['Saldo Consolidado Final'] = DATAFINAL['Saldo Consolidado Final'].astype('int64').map('{:,}'.format)\n",
    "\n",
    "DATAFINAL['Saldo MC'] = DATAFINAL['Saldo MC'].astype('int64').map('{:,}'.format)\n",
    "DATAFINAL['LopNoVerificado'] = DATAFINAL[\"LopNoVerificado\"].astype('int64').map('{:,}'.format)\n",
    "DATAFINAL['LopVerificado'] = DATAFINAL[\"LopVerificado\"].astype('int64').map('{:,}'.format)\n",
    "DATAFINAL[\"LopMargenTotal\"] = DATAFINAL[\"LopMargenTotal\"].astype('int64').map('{:,}'.format)\n",
    "\n",
    "DATAFINAL['Cantidad'] = DATAFINAL['Cantidad'].astype('int64').map('{:,}'.format)\n",
    "#DATAFINAL[\"FinalidadDescripcion\"] = FinalidadDescripcion\n",
    "\n"
   ]
  },
  {
   "cell_type": "markdown",
   "id": "cd1ae472-8581-4200-b6f4-a876a55ecc2d",
   "metadata": {},
   "source": [
    "### STYLEAR EL DATAFRAME, CREAR Y MOSTRAR IMAGEN"
   ]
  },
  {
   "cell_type": "code",
   "execution_count": 95,
   "id": "cf8ea362-a2e5-4468-aca7-b1acc08ace43",
   "metadata": {},
   "outputs": [],
   "source": [
    "\n",
    "df_styled = DATAFINAL.reset_index(drop=True).style.apply(highlight_rows, axis=1)\n",
    "#dfi.export_png(df_styled, filename,max_rows=-1,table_conversion='matplotlib')\n",
    "df_styled.export_png(filename ,table_conversion='chrome')\n",
    "IMAGEN = Image.open(filename)\n",
    "IMAGEN.show()\n",
    "\n"
   ]
  },
  {
   "cell_type": "markdown",
   "id": "b3cf9df6-9a7c-4b93-97ce-8d72e5eb0e1f",
   "metadata": {},
   "source": [
    "### SOLICITUDES CON INFORME DE PAGO"
   ]
  },
  {
   "cell_type": "code",
   "execution_count": 83,
   "id": "74af9932-1a00-4281-ae34-fc97da0dd0b2",
   "metadata": {},
   "outputs": [
    {
     "name": "stdout",
     "output_type": "stream",
     "text": [
      "\n",
      "## NO HAY SOLICITUDES DE EXTRACCIÓN QUE DEPENDAN DE INFORMES DE PAGO ##\n"
     ]
    }
   ],
   "source": [
    "\n",
    "\n",
    "apro = DATAFINAL[DATAFINAL[\"OUT\"] == 2]\n",
    "apro = apro.reset_index().drop_duplicates()\n",
    "\n",
    "if len(apro)>0:\n",
    "    print(\"\\n### SOLICITUDES CON INFORME DE PAGO A VERIFICAR ### \")\n",
    "    print(apro[[\"MC\",\"CIM\",\"Ingreso No Verificado\"]])\n",
    "else:\n",
    "    print(\"\\n## NO HAY SOLICITUDES DE EXTRACCIÓN QUE DEPENDAN DE INFORMES DE PAGO ##\")"
   ]
  },
  {
   "cell_type": "markdown",
   "id": "a71c6f83-fb31-4460-8f7a-507c0186f3a9",
   "metadata": {},
   "source": [
    "### VERIFICACIONES POSTERIORES "
   ]
  },
  {
   "cell_type": "code",
   "execution_count": 84,
   "id": "eb21d3b7-acfd-46ba-a224-378fc442429e",
   "metadata": {},
   "outputs": [
    {
     "name": "stdout",
     "output_type": "stream",
     "text": [
      "\n",
      "## NINGUNA CUENTA ESTA EXTRAYENDO MÁS DEL SALDO QUE POSEE ## \n",
      "\n",
      "## NINGUNA CUENTA PROPIA ESTA CUBRIENDO MÁS DEL SALDO QUE POSEE ##\n",
      " \n"
     ]
    }
   ],
   "source": [
    "\n",
    "DATAFINAL[\"Saldo Inicial\"] = DATAFINAL[\"Saldo Inicial\"].str.replace(\",\",\"\").astype(float)\n",
    "DATAFINAL[\"Monto\"] = DATAFINAL[\"Monto\"].str.replace(\",\",\"\").astype(float)\n",
    "DATAFINAL[\"Saldo MC\"] = DATAFINAL[\"Saldo MC\"].str.replace(\",\",\"\").astype(float)\n",
    "\n",
    "DATAFINAL1 = DATAFINAL[DATAFINAL[\"OUT\"] == 1]\n",
    "\n",
    "#print(\"\\n #### VERIFICAR QUE EL TOTAL DE EXTRACCIONES PARA UNA MISMA CUENTA NO SUPERE EL SALDO DE LA MISMA ### \\n\")\n",
    "\n",
    "d = {'Monto':'sum', 'Saldo Inicial':'first'}\n",
    "check1 = DATAFINAL1.groupby(\"Cuenta\").agg(d)\n",
    "check1[\"Resultado\"] = check1[\"Saldo Inicial\"] - check1[\"Monto\"]\n",
    "check1 = check1[check1[\"Resultado\"] < 0]\n",
    "\n",
    "if len(check1) > 0:\n",
    "    print(check1)\n",
    "else:\n",
    "    print(\"\\n## NINGUNA CUENTA ESTA EXTRAYENDO MÁS DEL SALDO QUE POSEE ## \")\n",
    "\n",
    "DATAFINAL3 = DATAFINAL[DATAFINAL[\"OUT\"] == 3]\n",
    "\n",
    "\n",
    "#print(\"\\n #### VERIFICAR QUE EL TOTAL DE EXTRACCIONES CUBIERTOS CON EL SALDO DE LA PROPIA NO SUPERE EL SALDO DE LA MISMA ### \\n\")\n",
    "\n",
    "e = {'Monto':'sum', 'Saldo MC':'first'}\n",
    "check2 = DATAFINAL3.groupby(\"Propia MC\").agg(e)\n",
    "check2[\"Resultado\"] = check2[\"Saldo MC\"] - check2[\"Monto\"] \n",
    "check2 = check2[check2[\"Resultado\"] < 0]\n",
    "\n",
    "if len(check2) > 0:\n",
    "    print(\"\\n## ATENCION - EXTRACCIONES SUPERAN SALDO DE LA PROPIA: \\n\")\n",
    "    print(check2)\n",
    "else:\n",
    "    print(\"\\n## NINGUNA CUENTA PROPIA ESTA CUBRIENDO MÁS DEL SALDO QUE POSEE ##\\n \")\n",
    "\n",
    "\n",
    "\n",
    "\n"
   ]
  },
  {
   "cell_type": "code",
   "execution_count": 85,
   "id": "ac9c45f1",
   "metadata": {},
   "outputs": [
    {
     "data": {
      "text/plain": [
       "9223372036854775807"
      ]
     },
     "execution_count": 85,
     "metadata": {},
     "output_type": "execute_result"
    }
   ],
   "source": [
    "sys.maxsize"
   ]
  },
  {
   "cell_type": "markdown",
   "id": "bc711cfe",
   "metadata": {},
   "source": [
    "## FORMATEO DEL JSON"
   ]
  },
  {
   "cell_type": "code",
   "execution_count": 86,
   "id": "549b6798",
   "metadata": {},
   "outputs": [],
   "source": [
    "\n",
    "DATA2 = DATA2[[\"ExtraccionHora\",\"MC_Cod\",\"ALyC\",\"CimCodigo\", \"NeteoCodigo\",\"Neteo Descripcion\", \"ActivoDescripcion\",\"ActivoID\",\"FinalidadID\",\"FinalidadDescripcion\",\"Cantidad\",\"Monto\", \"Saldo POSTA\",\"Ingresos Verificados\", \"NoVerificado\", \"MargenDelDia\",\"PRIMER_ANALISIS\",\"CuentaPropiaDelMC\", \"Saldo de la propia\",\"OUT\", \"MiembroCompensadorID\",\"CimID\",\"CuentaNeteoID\" ]]\n",
    "DATA2 = DATA2.rename(columns={\"OUT\":\"Resultado\",\"ExtraccionHora\":\"ExtraccionHora\",\"ALyC\":\"MiembroCompensadorDescripcion\",\"MC_Cod\":\"MiembroCompensadorCodigo\",\"CimCodigo\": \"CuentaCompensacionCodigo\",\"Ingresos Verificados\":\"IngresosVerificados\", \"NeteoCodigo\": \"CuentaNeteoCodigo\",\"Neteo Descripcion\":\"CuentaNeteoDescripcion\",\"Saldo POSTA\":\"Saldo\",\"NoVerificado\":\"IngresosNoVerificado\",\"PRIMER_ANALISIS\":\"SaldoConsolidadoFinal\",\"CuentaPropiaDelMC\":\"CuentaCompensacionCodigoPropia\", \"Saldo de la propia\":\"SaldoCuentaPropia\",\"CimID\":\"CuentaCompensacionID\"})\n",
    "DATA2[\"CuentaCompensacionCodigoPropia\"] = DATA2[\"CuentaCompensacionCodigoPropia\"].astype(\"str\")\n",
    "DATA2[\"Resultado\"] = DATA2[\"Resultado\"].astype(\"str\")\n"
   ]
  },
  {
   "cell_type": "code",
   "execution_count": 87,
   "id": "7d414fa4",
   "metadata": {},
   "outputs": [],
   "source": [
    "DATA2.to_json(\"json_records.json\",orient=\"records\")\n",
    "\n"
   ]
  },
  {
   "cell_type": "code",
   "execution_count": 88,
   "id": "fa7b1996",
   "metadata": {},
   "outputs": [
    {
     "name": "stdout",
     "output_type": "stream",
     "text": [
      "4675\n"
     ]
    }
   ],
   "source": [
    "\n",
    "\n",
    "def get_cim_propia(MC):\n",
    "    MC = str(MC)\n",
    "    url = \"https://rm4api.testing.acsa:8099/api/cuentas/getcuentacompensacion\"\n",
    "    df = requests.get(url, verify=False)\n",
    "\n",
    "    data_cuentas  = (df.json())\n",
    "    data_cuentas = pd.DataFrame(data_cuentas)\n",
    "    data_mc = ((data_cuentas[data_cuentas[\"MiembroCompensadorCodigo\"] == MC]))\n",
    "    propia = data_mc[data_mc[\"EsCuentaPropia\"] == True]\n",
    "    cim_codigo_propia = (propia[\"CuentaCompensacionCodigo\"].to_string(name=False,dtype=False,index=False))\n",
    "    return(cim_codigo_propia)\n",
    "\n",
    "print(get_cim_propia(205))"
   ]
  },
  {
   "cell_type": "code",
   "execution_count": null,
   "id": "e0b3db34",
   "metadata": {},
   "outputs": [],
   "source": []
  }
 ],
 "metadata": {
  "kernelspec": {
   "display_name": "Python 3.10.8 64-bit (microsoft store)",
   "language": "python",
   "name": "python3"
  },
  "language_info": {
   "codemirror_mode": {
    "name": "ipython",
    "version": 3
   },
   "file_extension": ".py",
   "mimetype": "text/x-python",
   "name": "python",
   "nbconvert_exporter": "python",
   "pygments_lexer": "ipython3",
   "version": "3.10.8"
  },
  "vscode": {
   "interpreter": {
    "hash": "9b099aea62e66bccdae9c52b7cb70e9dd5b9983ed74bfe9d8585cb6274a6265f"
   }
  }
 },
 "nbformat": 4,
 "nbformat_minor": 5
}
